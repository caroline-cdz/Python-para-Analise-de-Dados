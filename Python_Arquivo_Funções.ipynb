{
  "nbformat": 4,
  "nbformat_minor": 0,
  "metadata": {
    "colab": {
      "provenance": [],
      "include_colab_link": true
    },
    "kernelspec": {
      "name": "python3",
      "display_name": "Python 3"
    },
    "language_info": {
      "name": "python"
    }
  },
  "cells": [
    {
      "cell_type": "markdown",
      "metadata": {
        "id": "view-in-github",
        "colab_type": "text"
      },
      "source": [
        "<a href=\"https://colab.research.google.com/github/caroline-cdz/Python-para-Analise-de-Dados/blob/main/Python_Arquivo_Fun%C3%A7%C3%B5es.ipynb\" target=\"_parent\"><img src=\"https://colab.research.google.com/assets/colab-badge.svg\" alt=\"Open In Colab\"/></a>"
      ]
    },
    {
      "cell_type": "code",
      "execution_count": null,
      "metadata": {
        "colab": {
          "base_uri": "https://localhost:8080/"
        },
        "id": "chablQoIS1IC",
        "outputId": "cc6730ae-876b-499d-cb36-b5984065a72b"
      },
      "outputs": [
        {
          "output_type": "stream",
          "name": "stdout",
          "text": [
            "Overwriting carros.csv\n"
          ]
        }
      ],
      "source": [
        "%%writefile carros.csv\n",
        "id,valor_venda,valor_manutencao,portas,pessoas,porta_malas\n",
        "1,vhigh,med,2,2,small\n",
        "2,med,vhigh,2,2,small\n",
        "3,low,vhigh,2,2,small\n",
        "4,low,high,2,2,small\n",
        "5,low,high,2,2,small\n",
        "6,low,high,4,4,big\n",
        "7,low,high,4,4,big\n",
        "8,low,med,2,2,small\n",
        "9,low,med,2,2,small\n",
        "10,low,med,2,2,small\n",
        "11,low,med,4,4,big\n",
        "12,low,low,2,2,small\n",
        "13,low,low,4,4,small\n",
        "14,low,low,4,4,med"
      ]
    },
    {
      "cell_type": "code",
      "source": [
        "%%writefile musica.txt\n",
        "Roda Viva\n",
        "Chico Buarque\n",
        "Tem dias que a gente se sente\n",
        "Como quem partiu ou morreu\n",
        "A gente estancou de repente\n",
        "Ou foi o mundo então que cresceu\n",
        "A gente quer ter voz ativa\n",
        "No nosso destino mandar\n",
        "Mas eis que chega a roda viva\n",
        "E carrega o destino pra lá\n",
        "Roda mundo, roda-gigante\n",
        "Roda moinho, roda pião\n",
        "O tempo rodou num instante\n",
        "Nas voltas do meu coração\n",
        "A gente vai contra a corrente\n",
        "Até não poder resistir\n",
        "Na volta do barco é que sente\n",
        "O quanto deixou de cumprir\n",
        "Faz tempo que a gente cultiva\n",
        "A mais linda roseira que há\n",
        "Mas eis que chega a roda viva\n",
        "E carrega a roseira pra lá\n",
        "Roda mundo, roda-gigante\n",
        "Roda moinho, roda pião"
      ],
      "metadata": {
        "id": "h-p7QKQpTq1L",
        "colab": {
          "base_uri": "https://localhost:8080/"
        },
        "outputId": "8e473758-0a15-4f7b-f675-bbc805a911cc"
      },
      "execution_count": null,
      "outputs": [
        {
          "output_type": "stream",
          "name": "stdout",
          "text": [
            "Writing musica.txt\n"
          ]
        }
      ]
    },
    {
      "cell_type": "code",
      "source": [
        "# 1.1 Extraia os valores valor_venda e armazena em uma lista:\n",
        "valor_venda = []\n",
        "\n",
        "with open(file='./carros.csv', mode='r', encoding='utf8') as arquivo:\n",
        "  linha = arquivo.readline()\n",
        "  linha = arquivo.readline()\n",
        "\n",
        "  while linha:\n",
        "    linha_separada = linha.split(sep=',')\n",
        "    venda = linha_separada[1] #seleciona o segundo elemento da lista\n",
        "    valor_venda.append(venda)\n",
        "    linha = arquivo.readline()\n",
        "\n",
        "print(valor_venda)\n"
      ],
      "metadata": {
        "id": "6ymlJQeGVzRm"
      },
      "execution_count": null,
      "outputs": []
    },
    {
      "cell_type": "code",
      "source": [
        "# 1.2 Complete a função abaixo para extrair uma coluna, do arquivo csv em uma lista.\n",
        "def extrai_coluna_csv(nome_arquivo: str, indice_coluna: int):\n",
        "\n",
        "  coluna = []\n",
        "\n",
        "  with open(file=nome_arquivo , mode='r', enconding='utf8') as arquivo: # leia o arquivo com o comando 'with' utilizando o parametro 'nome_arquivo'\n",
        "    linha = arquivo.readline()\n",
        "    linha = arquivo.readline()\n",
        "\n",
        "    while (linha):\n",
        "      linha_separada = linha.split(',')\n",
        "      linha = linha_separada[indice_coluna] # extraia a coluna do arquivo utilizando o parametro 'indice_coluna'\n",
        "\n",
        "      coluna.append(linha)\n",
        "\n",
        "  return coluna\n",
        "\n"
      ],
      "metadata": {
        "id": "uXTbNmL3YSh7"
      },
      "execution_count": null,
      "outputs": []
    },
    {
      "cell_type": "code",
      "source": [
        "#Exercicio bônus 1:\n",
        "def extrai_coluna_csv(nome_arquivo: str, indice_coluna: int, tipo_dado: str):\n",
        "\n",
        "  coluna = []\n",
        "\n",
        "  with open(file=nome_arquivo , mode='r', encoding='utf8') as arquivo: # leia o arquivo com o comando 'with' utilizando o parametro 'nome_arquivo'\n",
        "    linha = arquivo.readline()\n",
        "    linha = arquivo.readline()\n",
        "\n",
        "    while linha:\n",
        "      linha_separada = linha.split(',')\n",
        "      linha = linha_separada[indice_coluna] # extraia a coluna do arquivo utilizando o parametro 'indice_coluna'\n",
        "\n",
        "      if tipo_dado in linha == 'str': # use a estrutura de decisão if/elif/else para fazer a conversão do tipo de dados\n",
        "        coluna.append(linha)\n",
        "      else:\n",
        "        coluna.append(str(linha))\n",
        "\n",
        "      linha = arquivo.readline()\n",
        "\n",
        "  return coluna\n",
        "\n",
        "# extrair a coluna pessoas\n",
        "pessoas = extrai_coluna_csv(nome_arquivo='./carros.csv', indice_coluna=4, tipo_dado='int')\n",
        "print(pessoas)  # deve retornar [2, 2, 2, ...]\n",
        "\n",
        "# extrair a coluna valor_venda\n",
        "valor_venda = extrai_coluna_csv(nome_arquivo='./carros.csv', indice_coluna=1, tipo_dado='str')\n",
        "print(valor_venda) # deve retornar ['vhigh', 'med', 'low', ...]"
      ],
      "metadata": {
        "id": "dgeJSyaQywti",
        "colab": {
          "base_uri": "https://localhost:8080/"
        },
        "outputId": "ce003751-5a79-4212-8140-ecea1ccffd82"
      },
      "execution_count": null,
      "outputs": [
        {
          "output_type": "stream",
          "name": "stdout",
          "text": [
            "['2', '2', '2', '2', '2', '4', '4', '2', '2', '2', '4', '2', '4', '4']\n",
            "['vhigh', 'med', 'low', 'low', 'low', 'low', 'low', 'low', 'low', 'low', 'low', 'low', 'low', 'low']\n"
          ]
        }
      ]
    },
    {
      "cell_type": "code",
      "source": [
        "#Exercicio bônus 2:\n",
        "def extrai_linha_txt(nome_arquivo: str, numero_linha: int):\n",
        "\n",
        " palavras_linha = []\n",
        "\n",
        "  with open(file=nome_arquivo , mode='r' , encondig='utf8') as fp: # leia o arquivo com o comando 'with' utilizando o parametro 'nome_arquivo'\n",
        "    linha = fp.readline()\n",
        "    linha = fp.readline()\n",
        "\n",
        "    while (linha):\n",
        "      linha_separada = linha.split(' ') # quebre a linha em palavras com o comando split, note que o separador é um espaço '\n",
        "      linha = linha_separada[numero_linha] # extraia a linha do arquivo utilizando o parametro 'numero_linha'\n",
        "\n",
        "      palavras_linha.append(linha)\n",
        "\n",
        "  return palavras_linha"
      ],
      "metadata": {
        "id": "g-Uta008WIXO"
      },
      "execution_count": null,
      "outputs": []
    }
  ]
}