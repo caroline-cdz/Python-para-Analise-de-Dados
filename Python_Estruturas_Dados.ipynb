{
  "nbformat": 4,
  "nbformat_minor": 0,
  "metadata": {
    "colab": {
      "provenance": [],
      "include_colab_link": true
    },
    "kernelspec": {
      "name": "python3",
      "display_name": "Python 3"
    },
    "language_info": {
      "name": "python"
    }
  },
  "cells": [
    {
      "cell_type": "markdown",
      "metadata": {
        "id": "view-in-github",
        "colab_type": "text"
      },
      "source": [
        "<a href=\"https://colab.research.google.com/github/caroline-cdz/Python-para-Analise-de-Dados/blob/main/Python_Estruturas_Dados.ipynb\" target=\"_parent\"><img src=\"https://colab.research.google.com/assets/colab-badge.svg\" alt=\"Open In Colab\"/></a>"
      ]
    },
    {
      "cell_type": "code",
      "execution_count": null,
      "metadata": {
        "colab": {
          "base_uri": "https://localhost:8080/"
        },
        "id": "HLNQCbmy-Yvl",
        "outputId": "a58b45ab-2f1b-48bc-8b7f-2214fc38fd89"
      },
      "outputs": [
        {
          "output_type": "stream",
          "name": "stdout",
          "text": [
            "['Um Sonho de Liberdade', 'O Poderoso Chefão', 'Batman: O Cavaleiro das Trevas', 'O Poderoso Chefão II', '12 Homens e uma Sentença', 'A Lista de Schindler', 'O Senhor dos Anéis: O Retorno do Rei', 'Pulp Fiction: Tempo de Violência', 'O Senhor dos Anéis: A Sociedade do Anel', 'Três Homens em Conflito']\n",
            "['O Poderoso Chefão', 'Um Sonho de Liberdade', 'Batman: O Cavaleiro das Trevas', 'O Poderoso Chefão II', '12 Homens e uma Sentença', 'A Lista de Schindler', 'O Senhor dos Anéis: O Retorno do Rei', 'Pulp Fiction: Tempo de Violência', 'O Senhor dos Anéis: A Sociedade do Anel', 'Três Homens em Conflito']\n"
          ]
        }
      ],
      "source": [
        "# lista dos filmes com o nome dos 10 primeiros filmes mais bem avaliados:\n",
        "filmes = [\n",
        "    \"Um Sonho de Liberdade\",\n",
        "    \"O Poderoso Chefão\",\n",
        "    \"Batman: O Cavaleiro das Trevas\",\n",
        "    \"O Poderoso Chefão II\",\n",
        "    \"12 Homens e uma Sentença\",\n",
        "    \"A Lista de Schindler\",\n",
        "    \"O Senhor dos Anéis: O Retorno do Rei\",\n",
        "    \"Pulp Fiction: Tempo de Violência\",\n",
        "    \"O Senhor dos Anéis: A Sociedade do Anel\",\n",
        "    \"Três Homens em Conflito\"\n",
        "]\n",
        "print(filmes)\n",
        "\n",
        "# métodos insert e pop para trocar a posição do primeiro e do segundo filme da lista:\n",
        "filmes.insert(0, \"O Poderoso Chefão\")\n",
        "filmes.pop(2)\n",
        "print(filmes)\n"
      ]
    },
    {
      "cell_type": "code",
      "source": [
        "# Conjunto: erro das duplicadas\n",
        "filmes = [\n",
        "    \"Um Sonho de Liberdade\",\n",
        "    \"O Poderoso Chefão\",\n",
        "    \"Batman: O Cavaleiro das Trevas\",\n",
        "    \"O Poderoso Chefão II\",\n",
        "    \"12 Homens e uma Sentença\",\n",
        "    \"A Lista de Schindler\",\n",
        "    \"O Senhor dos Anéis: O Retorno do Rei\",\n",
        "    \"Pulp Fiction: Tempo de Violência\",\n",
        "    \"O Senhor dos Anéis: A Sociedade do Anel\",\n",
        "    \"Três Homens em Conflito\"\n",
        "]\n",
        "filmes += [\n",
        "    \"Pulp Fiction: Tempo de Violência\",\n",
        "    \"O Senhor dos Anéis: A Sociedade do Anel\",\n",
        "    \"Três Homens em Conflito\"\n",
        "]\n",
        "print(filmes)\n",
        "\n",
        "# EXERCÍCIO CORRIGIDO:\n",
        "filmes = list(set(filmes))\n",
        "print(filmes)\n"
      ],
      "metadata": {
        "colab": {
          "base_uri": "https://localhost:8080/"
        },
        "id": "uYOmUWIZgpkb",
        "outputId": "36785ac8-3693-484d-9d53-8c0fb70919dc"
      },
      "execution_count": null,
      "outputs": [
        {
          "output_type": "stream",
          "name": "stdout",
          "text": [
            "['Um Sonho de Liberdade', 'O Poderoso Chefão', 'Batman: O Cavaleiro das Trevas', 'O Poderoso Chefão II', '12 Homens e uma Sentença', 'A Lista de Schindler', 'O Senhor dos Anéis: O Retorno do Rei', 'Pulp Fiction: Tempo de Violência', 'O Senhor dos Anéis: A Sociedade do Anel', 'Três Homens em Conflito', 'Pulp Fiction: Tempo de Violência', 'O Senhor dos Anéis: A Sociedade do Anel', 'Três Homens em Conflito']\n",
            "['Batman: O Cavaleiro das Trevas', 'O Poderoso Chefão II', 'A Lista de Schindler', 'Um Sonho de Liberdade', 'Três Homens em Conflito', 'O Poderoso Chefão', '12 Homens e uma Sentença', 'O Senhor dos Anéis: A Sociedade do Anel', 'Pulp Fiction: Tempo de Violência', 'O Senhor dos Anéis: O Retorno do Rei']\n"
          ]
        }
      ]
    },
    {
      "cell_type": "code",
      "source": [
        "# Dicionários dos filmes com o nome dos 10 primeiros filmes mais bem avaliados:\n",
        "filmes = [\n",
        "    {\"nome\": \"Um Sonho de Liberdade\", \"ano\": \"1994\", \"sinopse\": \"XYZ\"},\n",
        "    {\"nome\": \"O Poderoso Chefão\", \"ano\": \"1972\", \"sinopse\": \"XYZ\"},\n",
        "    {\"nome\": \"Batman: O Cavaleiro das Trevas\", \"ano\": \"1994\", \"sinopse\": \"XYZ\"},\n",
        "    {\"nome\": \"O Poderoso Chefão II\", \"ano\": \"1974\", \"sinopse\": \"XYZ\"},\n",
        "    {\"nome\": \"12 Homens e uma Sentença\", \"ano\": \"1957\", \"sinopse\": \"XYZ\"},\n",
        "    {\"nome\": \"A Lista de Schindler\", \"ano\": \"1993\", \"sinopse\": \"XYZ\"},\n",
        "    {\"nome\": \"O Senhor dos Anéis: O Retorno do Rei\", \"ano\": \"2003\", \"sinopse\": \"XYZ\"},\n",
        "    {\"nome\": \"Pulp Fiction: Tempo de Violência\", \"ano\": \"1994\", \"sinopse\": \"XYZ\"},\n",
        "    {\"nome\": \"Três Homens em Conflito\", \"ano\": \"1966\", \"sinopse\": \"XYZ\"},\n",
        "    {\"nome\": \"10°. O Senhor dos Anéis: A Sociedade do Anel\", \"ano\": \"2001\", \"sinopse\": \"XYZ\"}\n",
        "]\n",
        "print(filmes)\n",
        "\n",
        "# trocando a posição do primeiro e do segundo filme, por meio do manuseio da união de listas e dicionários:\n",
        "filmes_auxiliar = filmes[0]\n",
        "filmes[0] = filmes [1]\n",
        "filmes[1] = filmes_auxiliar\n",
        "print(filmes)\n"
      ],
      "metadata": {
        "id": "izWwwx26G3Ze",
        "colab": {
          "base_uri": "https://localhost:8080/"
        },
        "outputId": "e0d83665-b798-4e57-9133-f391a145c57e"
      },
      "execution_count": null,
      "outputs": [
        {
          "output_type": "stream",
          "name": "stdout",
          "text": [
            "[{'nome': 'Um Sonho de Liberdade', 'ano': '1994', 'sinopse': 'XYZ'}, {'nome': 'O Poderoso Chefão', 'ano': '1972', 'sinopse': 'XYZ'}, {'nome': 'Batman: O Cavaleiro das Trevas', 'ano': '1994', 'sinopse': 'XYZ'}, {'nome': 'O Poderoso Chefão II', 'ano': '1974', 'sinopse': 'XYZ'}, {'nome': '12 Homens e uma Sentença', 'ano': '1957', 'sinopse': 'XYZ'}, {'nome': 'A Lista de Schindler', 'ano': '1993', 'sinopse': 'XYZ'}, {'nome': 'O Senhor dos Anéis: O Retorno do Rei', 'ano': '2003', 'sinopse': 'XYZ'}, {'nome': 'Pulp Fiction: Tempo de Violência', 'ano': '1994', 'sinopse': 'XYZ'}, {'nome': 'Três Homens em Conflito', 'ano': '1966', 'sinopse': 'XYZ'}, {'nome': '10°. O Senhor dos Anéis: A Sociedade do Anel', 'ano': '2001', 'sinopse': 'XYZ'}]\n",
            "[{'nome': 'O Poderoso Chefão', 'ano': '1972', 'sinopse': 'XYZ'}, {'nome': 'Um Sonho de Liberdade', 'ano': '1994', 'sinopse': 'XYZ'}, {'nome': 'Batman: O Cavaleiro das Trevas', 'ano': '1994', 'sinopse': 'XYZ'}, {'nome': 'O Poderoso Chefão II', 'ano': '1974', 'sinopse': 'XYZ'}, {'nome': '12 Homens e uma Sentença', 'ano': '1957', 'sinopse': 'XYZ'}, {'nome': 'A Lista de Schindler', 'ano': '1993', 'sinopse': 'XYZ'}, {'nome': 'O Senhor dos Anéis: O Retorno do Rei', 'ano': '2003', 'sinopse': 'XYZ'}, {'nome': 'Pulp Fiction: Tempo de Violência', 'ano': '1994', 'sinopse': 'XYZ'}, {'nome': 'Três Homens em Conflito', 'ano': '1966', 'sinopse': 'XYZ'}, {'nome': '10°. O Senhor dos Anéis: A Sociedade do Anel', 'ano': '2001', 'sinopse': 'XYZ'}]\n"
          ]
        }
      ]
    }
  ]
}