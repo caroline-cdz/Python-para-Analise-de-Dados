{
  "nbformat": 4,
  "nbformat_minor": 0,
  "metadata": {
    "colab": {
      "provenance": [],
      "include_colab_link": true
    },
    "kernelspec": {
      "name": "python3",
      "display_name": "Python 3"
    },
    "language_info": {
      "name": "python"
    }
  },
  "cells": [
    {
      "cell_type": "markdown",
      "metadata": {
        "id": "view-in-github",
        "colab_type": "text"
      },
      "source": [
        "<a href=\"https://colab.research.google.com/github/caroline-cdz/Python-para-Analise-de-Dados/blob/main/Python_Tratamento_de_Erros.ipynb\" target=\"_parent\"><img src=\"https://colab.research.google.com/assets/colab-badge.svg\" alt=\"Open In Colab\"/></a>"
      ]
    },
    {
      "cell_type": "code",
      "execution_count": null,
      "metadata": {
        "id": "j7qPWl_sFXXY"
      },
      "outputs": [],
      "source": [
        "#1.tratamento de erros de sintaxe"
      ]
    },
    {
      "cell_type": "code",
      "source": [
        "#credito = {'123': 750, '456': 812, '789': 980}\n",
        "\n",
        "#for chave, valor in credito.items():\n",
        "#  print(f'Para o documento {chave}, o valor do escore de crédito é {valor}.\")\n",
        "\n",
        "#SyntaxError: unterminated string literal (detected at line 4) (ERRO DA DUPLA ASPAS NO FINAL DO PRINT)\n",
        "\n",
        "credito = {'123': 750, '456': 812, '789': 980}\n",
        "\n",
        "for chave, valor in credito.items():\n",
        "  print(f'Para o documento {chave}, o valor do escore de crédito é {valor}.') #CORRIGIDO"
      ],
      "metadata": {
        "colab": {
          "base_uri": "https://localhost:8080/"
        },
        "id": "jgpBmcJDGFBP",
        "outputId": "6956427b-0815-491f-88ca-20069a45efb7"
      },
      "execution_count": null,
      "outputs": [
        {
          "output_type": "stream",
          "name": "stdout",
          "text": [
            "Para o documento 123, o valor do escore de crédito é 750.\n",
            "Para o documento 456, o valor do escore de crédito é 812.\n",
            "Para o documento 789, o valor do escore de crédito é 980.\n"
          ]
        }
      ]
    },
    {
      "cell_type": "code",
      "source": [
        "#def pi() --> float:\n",
        "#  return 3.14159265359\n",
        "\n",
        "#pi = pi()\n",
        "#print(pi)\n",
        "\n",
        "#SyntaxError: expected ':' line 1 (ERRO NA SETA -->)\n",
        "\n",
        "def pi() -> float: #CORRIGIDO\n",
        "  return 3.14159265359\n",
        "\n",
        "pi = pi()\n",
        "print(pi)\n"
      ],
      "metadata": {
        "colab": {
          "base_uri": "https://localhost:8080/"
        },
        "id": "Ddh1Rl0HMz5J",
        "outputId": "29a4afb3-7f58-42d2-e6f0-97e67f894195"
      },
      "execution_count": null,
      "outputs": [
        {
          "output_type": "stream",
          "name": "stdout",
          "text": [
            "3.14159265359\n"
          ]
        }
      ]
    },
    {
      "cell_type": "code",
      "source": [
        "#emails = ['andre.perez@gmail.com', 'andre.perez@live.com', 'andre.perez@yahoo.com']\n",
        "#provedor_da_google = lambda email: 'gmail in email\n",
        "\n",
        "#emails_google = filter(provedor_da_google, emails)\n",
        "#print(list(emails_google))\n",
        "\n",
        "#SyntaxError: unterminated string literal (detected at line 2) (FALTOU ASPA NO gmail ')\n",
        "\n",
        "emails = ['andre.perez@gmail.com', 'andre.perez@live.com', 'andre.perez@yahoo.com']\n",
        "provedor_da_google = lambda email: 'gmail' in email #CORRIGIDO\n",
        "\n",
        "emails_google = filter(provedor_da_google, emails)\n",
        "print(list(emails_google))\n"
      ],
      "metadata": {
        "colab": {
          "base_uri": "https://localhost:8080/"
        },
        "id": "U0cxGA9DKSE5",
        "outputId": "9853300f-59f4-48fa-ef4b-018a6f4cb1a6"
      },
      "execution_count": null,
      "outputs": [
        {
          "output_type": "stream",
          "name": "stdout",
          "text": [
            "['andre.perez@gmail.com']\n"
          ]
        }
      ]
    },
    {
      "cell_type": "code",
      "source": [
        "#class Pessoa(object):\n",
        "\n",
        "#  def __init__(self nome: str, idade: int, documento: str):\n",
        "#    self.nome = nome\n",
        "#    self.idade = idade\n",
        "#    self.documento = documento\n",
        "\n",
        "#andre = Pessoa(nome=\"Andre\", idade=30, document=\"123\") (2 ERRO: FALTA 'O' EM 'document')\n",
        "\n",
        "#SyntaxError: invalid syntax line 3 (FALTOU VIRGULA EM SELF,)\n",
        "\n",
        "class Pessoa(object):\n",
        "\n",
        "  def __init__(self, nome: str, idade: int, documento: str): #CORRIGIDO\n",
        "    self.nome = nome\n",
        "    self.idade = idade\n",
        "    self.documento = documento\n",
        "\n",
        "andre = Pessoa(nome=\"Andre\", idade=30, documento=\"123\") #CORRIGIDO"
      ],
      "metadata": {
        "id": "bmnfOs0aPhwM"
      },
      "execution_count": null,
      "outputs": []
    },
    {
      "cell_type": "code",
      "source": [
        "#2.erro em tempo de execucao"
      ],
      "metadata": {
        "id": "lHxurRMwPXD2"
      },
      "execution_count": null,
      "outputs": []
    },
    {
      "cell_type": "code",
      "source": [
        "%%writefile credito.csv\n",
        "id_vendedor,valor_emprestimos,quantidade_emprestimos,data\n",
        "104271,448.0,1,20161208\n",
        "21476,826.7,3,20161208\n",
        "87440,313.6,3,20161208\n",
        "15980,808.0,6,20161208\n",
        "215906,2212.0,5,20161208\n",
        "33696,2771.3,2,20161208\n",
        "33893,2240.0,3,20161208\n",
        "214946,\"4151.0\",18,20161208\n",
        "123974,2021.95,2,20161208\n",
        "225870,4039.0,2,20161208"
      ],
      "metadata": {
        "colab": {
          "base_uri": "https://localhost:8080/"
        },
        "id": "BfqEcp9dRak5",
        "outputId": "16ccb11f-257b-4a43-87e6-03ec0c467619"
      },
      "execution_count": null,
      "outputs": [
        {
          "output_type": "stream",
          "name": "stdout",
          "text": [
            "Writing credito.csv\n"
          ]
        }
      ]
    },
    {
      "cell_type": "code",
      "source": [
        "#CORRIGIDO\n",
        "def valor_total_emprestimo(valor: float, quantidade: int) -> float:\n",
        "  return valor * quantidade\n",
        "\n",
        "emprestimos = []\n",
        "\n",
        "with open(file='./credito.csv', mode='r', encoding='utf8') as fp:\n",
        "  fp.readline() # cabeçalho\n",
        "  linha = fp.readline()\n",
        "  while linha:\n",
        "    try:\n",
        "      linha_emprestimo = {}\n",
        "      linha_elementos = linha.strip().split(sep=',')\n",
        "      linha_emprestimo['id_vendedor'] = linha_elementos[0]\n",
        "      linha_emprestimo['valor_emprestimos'] = float(linha_elementos[1])\n",
        "      linha_emprestimo['quantidade_emprestimos'] = int(linha_elementos[2])\n",
        "      linha_emprestimo['data'] = linha_elementos[3]\n",
        "      emprestimos.append(linha_emprestimo)\n",
        "      linha = fp.readline()\n",
        "    except ValueError:\n",
        "      linha = linha.replace('\"','')\n",
        "    except Exception as exc:\n",
        "      print(exc)\n",
        "\n",
        "emprestimos_total = []\n",
        "for emprestimo in emprestimos:\n",
        "  valor_total = valor_total_emprestimo(valor=emprestimo['valor_emprestimos'], quantidade=emprestimo['quantidade_emprestimos'])\n",
        "  emprestimos_total.append({emprestimo['id_vendedor']: valor_total})\n",
        "\n",
        "for emprestimo_total in emprestimos_total:\n",
        "  print(emprestimo_total)"
      ],
      "metadata": {
        "colab": {
          "base_uri": "https://localhost:8080/"
        },
        "id": "N6P7FCDZT7Y2",
        "outputId": "9fec7118-2389-46b3-e156-b2ee0c8ad495"
      },
      "execution_count": null,
      "outputs": [
        {
          "output_type": "stream",
          "name": "stdout",
          "text": [
            "{'104271': 448.0}\n",
            "{'21476': 2480.1000000000004}\n",
            "{'87440': 940.8000000000001}\n",
            "{'15980': 4848.0}\n",
            "{'215906': 11060.0}\n",
            "{'33696': 5542.6}\n",
            "{'33893': 6720.0}\n",
            "{'214946': 74718.0}\n",
            "{'123974': 4043.9}\n",
            "{'225870': 8078.0}\n"
          ]
        }
      ]
    }
  ]
}